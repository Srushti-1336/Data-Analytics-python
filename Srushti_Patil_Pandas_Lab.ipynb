{
  "nbformat": 4,
  "nbformat_minor": 0,
  "metadata": {
    "colab": {
      "provenance": [],
      "authorship_tag": "ABX9TyM4RnaByl8b/kJvJb57gWTE",
      "include_colab_link": true
    },
    "kernelspec": {
      "name": "python3",
      "display_name": "Python 3"
    },
    "language_info": {
      "name": "python"
    }
  },
  "cells": [
    {
      "cell_type": "markdown",
      "metadata": {
        "id": "view-in-github",
        "colab_type": "text"
      },
      "source": [
        "<a href=\"https://colab.research.google.com/github/Srushti-1336/Data-Analytics-python/blob/main/Srushti_Patil_Pandas_Lab.ipynb\" target=\"_parent\"><img src=\"https://colab.research.google.com/assets/colab-badge.svg\" alt=\"Open In Colab\"/></a>"
      ]
    },
    {
      "cell_type": "code",
      "source": [
        "months = [\"January\",\"February\",\"March\",\"April\",\"May\",\"June\",\"July\",\"August\",\"September\",\"Octomber\",\"November\",\"December\"]\n",
        "\n",
        "sales = [12000,13500,14200,12800,14000,15500,16200,15800,16500,17800,18500,17200]\n",
        "displayed_data = pd.Series(sales,index = months, name = \"Monthly Sales(USD)\")\n",
        "print(displayed_data)"
      ],
      "metadata": {
        "colab": {
          "base_uri": "https://localhost:8080/"
        },
        "id": "jrht4xrYjRVB",
        "outputId": "15d6797f-0243-479b-ab6f-12050b922560"
      },
      "execution_count": 2,
      "outputs": [
        {
          "output_type": "stream",
          "name": "stdout",
          "text": [
            "January      12000\n",
            "February     13500\n",
            "March        14200\n",
            "April        12800\n",
            "May          14000\n",
            "June         15500\n",
            "July         16200\n",
            "August       15800\n",
            "September    16500\n",
            "Octomber     17800\n",
            "November     18500\n",
            "December     17200\n",
            "Name: Monthly Sales(USD), dtype: int64\n"
          ]
        }
      ]
    },
    {
      "cell_type": "code",
      "execution_count": 1,
      "metadata": {
        "colab": {
          "base_uri": "https://localhost:8080/"
        },
        "id": "38XPILiIgwJN",
        "outputId": "1d7daf3e-db2c-4496-f0b2-e806a91be28e"
      },
      "outputs": [
        {
          "output_type": "stream",
          "name": "stdout",
          "text": [
            "0       Monday\n",
            "1      Tuesday\n",
            "2    Wednesday\n",
            "3    Wednesday\n",
            "4     Thursday\n",
            "5       Friday\n",
            "6     Saturday\n",
            "dtype: object\n"
          ]
        }
      ],
      "source": [
        "#imported a python library \"pandas\" which used for data manipulation & analysis\n",
        "import pandas as pd\n",
        "\n",
        "#1D array is created named as days\n",
        "days = [\"Monday\", \"Tuesday\", \"Wednesday\", \"Wednesday\", \"Thursday\", \"Friday\", \"Saturday\"]\n",
        "\n",
        "#here pandas series is created & assigned to a variable \"result\" it takes days as an input\n",
        "result = pd.Series(days)\n",
        "\n",
        "# the code prints the content of the pandas Series to the console using print\n",
        "print(result)"
      ]
    },
    {
      "cell_type": "code",
      "source": [
        "#my_data variable holds the 2 keys which are \"name\" and \"age\" used to create pandas dataFrame\n",
        "my_data ={ 'Name': ['Manisha', 'Yogita',' Marina',' Andrews',' Ella'],\n",
        "          'Age':[30,40,20,10,25]}\n",
        "\n",
        "#DataFrame is created and is assigned to the variable \"display\"\n",
        "#this dataFrame will have two colunms named \"Name\" and \"Age\"\n",
        "display= pd.DataFrame(my_data)\n",
        "\n",
        "#This shows the DataFrame before adding a new column.\n",
        "print(\"before Adding Column:\")\n",
        "print(display)\n",
        "\n",
        "#A separator is then printed for better visual separation of the output:\n",
        "print(\"------------------------------------------\")\n",
        "\n",
        "#A message \"After Adding Column\" is printed to the console, to indicate that now a new column will be added:\n",
        "print('After Adding Column')\n",
        "\n",
        "\n",
        "#A new column named 'city' is added to the display DataFrame using bracket notation and assigned a list of strings\n",
        "display['city']=['Mumbai', 'Pune', 'Nashik', 'Nashik','Aurangabad', 'Nagpur']\n",
        "\n",
        "#Finally, the modified DataFrame is printed to the console, showing the added 'city' column\n",
        "print(display)"
      ],
      "metadata": {
        "colab": {
          "base_uri": "https://localhost:8080/"
        },
        "id": "iBnDN6MiqSI4",
        "outputId": "7fde6423-a0f1-4611-f09d-33d5b441f422"
      },
      "execution_count": 3,
      "outputs": [
        {
          "output_type": "stream",
          "name": "stdout",
          "text": [
            "before Adding Column:\n",
            "      Name  Age\n",
            "0  Manisha   30\n",
            "1   Yogita   40\n",
            "2   Marina   20\n",
            "3  Andrews   10\n",
            "4     Ella   25\n",
            "------------------------------------------\n",
            "After Adding Column\n",
            "      Name  Age        city\n",
            "0  Manisha   30      Mumbai\n",
            "1   Yogita   40        Pune\n",
            "2   Marina   20      Nashik\n",
            "3  Andrews   10  Aurangabad\n",
            "4     Ella   25      Nagpur\n"
          ]
        }
      ]
    },
    {
      "cell_type": "code",
      "source": [
        "# Lab1: Suppose you are a teacher, and you want to analyze the exam scores of your\n",
        "# students in a particular subject. You have recorded the scores of your students for a\n",
        "# recent exam, and you want to represent this data using a Pandas Series.\n",
        "# Input:\n",
        "#there are two lists created called students and exam_scores\n",
        "\n",
        "#students: This list holds the names of the students. Each name is a string.\n",
        "students = ['Alice', 'Bob', 'Charlie', 'David', 'Eve', 'Frank', 'Grace', 'Hannah', 'Ivy', 'Jack']\n",
        "\n",
        "#exam_scores: This list contains the numerical scores each student received. The order of scores corresponds to the order of the names in the students list.\n",
        "exam_scores = [92, 88, 76, 94, 82, 90, 85, 89, 78, 91]\n",
        "\n",
        "\n",
        "#pandas series is created and assigned to a variable named as exam_result\n",
        "exam_result = pd.Series(exam_scores,students,name = \"Student exam scores:\")\n",
        "\n",
        "#the code prints the Series\n",
        "print(exam_result)"
      ],
      "metadata": {
        "colab": {
          "base_uri": "https://localhost:8080/"
        },
        "id": "LxNG_OzeAh1l",
        "outputId": "6a861e4a-a835-4818-85d0-e4e96081722c"
      },
      "execution_count": 4,
      "outputs": [
        {
          "output_type": "stream",
          "name": "stdout",
          "text": [
            "Alice      92\n",
            "Bob        88\n",
            "Charlie    76\n",
            "David      94\n",
            "Eve        82\n",
            "Frank      90\n",
            "Grace      85\n",
            "Hannah     89\n",
            "Ivy        78\n",
            "Jack       91\n",
            "Name: Student exam scores:, dtype: int64\n"
          ]
        }
      ]
    },
    {
      "cell_type": "code",
      "source": [
        "# Lab2: Suppose you want to track and analyze your household expenses for a month.\n",
        "# You have recorded the expenses for various categories, such as groceries, utilities, rent,\n",
        "# transportation, and entertainment. You can represent this expense data using a Pandas\n",
        "# Series.\n",
        "# Input:\n",
        "\n",
        "# Expense categories\n",
        "categories = ['Groceries', 'Utilities', 'Rent', 'Transportation', 'Entertainment']\n",
        "\n",
        "# Monthly expense data (example data in USD)\n",
        "expenses = [500, 200, 1200, 300, 150]\n",
        "\n",
        "#A Pandas 'Series' named 'analysis' is created.\n",
        "#Expenses are data values while categories serve as an index for the series.\n",
        "analysis = pd.Series(expenses,categories,name = \"Monthly Expenses(USD)\")\n",
        "print(analysis)\n"
      ],
      "metadata": {
        "colab": {
          "base_uri": "https://localhost:8080/"
        },
        "id": "7TxDmnBTAhxv",
        "outputId": "fa88861e-32a1-4da6-99b3-50846fadb6bc"
      },
      "execution_count": 5,
      "outputs": [
        {
          "output_type": "stream",
          "name": "stdout",
          "text": [
            "Groceries          500\n",
            "Utilities          200\n",
            "Rent              1200\n",
            "Transportation     300\n",
            "Entertainment      150\n",
            "Name: Monthly Expenses(USD), dtype: int64\n"
          ]
        }
      ]
    },
    {
      "cell_type": "code",
      "source": [
        "# Lab3: Suppose you want to track and analyze the monthly energy consumption in your\n",
        "# home. You have recorded the monthly energy usage for electricity and gas over a year,\n",
        "# and you want to represent this data using Pandas Series.\n",
        "# Input:\n",
        "# Months in a year\n",
        "months = ['January', 'February', 'March', 'April', 'May', 'June', 'July', 'August','September', 'October', 'November', 'December']\n",
        "# Monthly energy consumption data (example data in kilowatt-hours for electricity and therms for gas)\n",
        "electricity_usage = [350, 320, 310, 330, 340, 370, 380, 360, 350, 330, 320, 330]\n",
        "gas_usage = [20, 18, 16, 15, 12, 10, 8, 9, 12, 15, 17, 19]\n",
        "\n",
        "#A dictionary is created to store the month and electricity usage. The keys are \"Months\"\n",
        "#and \"Electricity Usage\", and the values are the months and electricity_usage lists, respectively.\n",
        "\n",
        "monthly_electricity_consumption = {\"Months\":months,\"Electricity Usage\":electricity_usage}\n",
        "\n",
        "#A dictionary is created to store the month and gas usage. The keys are \"Months\"\n",
        "#and \"Gas Usage\", and the values are the months and gas_usage lists, respectively.\n",
        "\n",
        "monthly_gas_consumption = {\"Months\":months,\"Gas Usage\":gas_usage}\n",
        "\n",
        "#A pandas DataFrame named electricity_consumption is created using the\n",
        "#monthly_electricity_consumption\n",
        "#dictionary. This DataFrame represents the monthly electricity consumption data.\n",
        "\n",
        "electricity_consumption= pd.DataFrame(monthly_electricity_consumption)\n",
        "\n",
        "#dictionary. This DataFrame represents the monthly gas consumption data.\n",
        "gas_consumption = pd.DataFrame(monthly_gas_consumption)\n",
        "\n",
        "#the code prints the DataFrames:\n",
        "print(electricity_consumption)\n",
        "print(\"------------------------------------------------------\")\n",
        "print(gas_consumption)"
      ],
      "metadata": {
        "colab": {
          "base_uri": "https://localhost:8080/"
        },
        "id": "BZO1l0H8AhuP",
        "outputId": "6f2f6292-ce22-4e5b-8339-67e189f9e21f"
      },
      "execution_count": 12,
      "outputs": [
        {
          "output_type": "stream",
          "name": "stdout",
          "text": [
            "       Months  Electricity Usage\n",
            "0     January                350\n",
            "1    February                320\n",
            "2       March                310\n",
            "3       April                330\n",
            "4         May                340\n",
            "5        June                370\n",
            "6        July                380\n",
            "7      August                360\n",
            "8   September                350\n",
            "9     October                330\n",
            "10   November                320\n",
            "11   December                330\n",
            "------------------------------------------------------\n",
            "       Months  Gas Usage\n",
            "0     January         20\n",
            "1    February         18\n",
            "2       March         16\n",
            "3       April         15\n",
            "4         May         12\n",
            "5        June         10\n",
            "6        July          8\n",
            "7      August          9\n",
            "8   September         12\n",
            "9     October         15\n",
            "10   November         17\n",
            "11   December         19\n"
          ]
        }
      ]
    },
    {
      "cell_type": "code",
      "source": [
        "# Lab4:Suppose you are managing a website and want to analyze the monthly revenue\n",
        "# generated from advertising. You have recorded the monthly revenue for the past year,\n",
        "# and you want to represent this data using a Pandas Series.\n",
        "# Input:\n",
        "\n",
        "#Creating the months list:\n",
        "# Months in a year\n",
        "months = ['January', 'February', 'March', 'April', 'May', 'June', 'July', 'August',\n",
        "'September', 'October', 'November', 'December']\n",
        "\n",
        "# Monthly advertising revenue data (example data in USD)\n",
        "revenue = [5000, 5200, 4800, 5400, 5600, 5800, 6100, 5900, 6200, 6500, 7000, 6900]\n",
        "\n",
        "#pandas series is used to print data in a 1D array\n",
        "monthly_revenue = pd.Series(revenue,index=months,name =\"Monthly Advertising Revenue(USD)\")\n",
        "\n",
        "#Printing the Series\n",
        "print(monthly_revenue)"
      ],
      "metadata": {
        "colab": {
          "base_uri": "https://localhost:8080/"
        },
        "id": "lTzc9_KhAhq2",
        "outputId": "bd1fac43-3764-4667-f25e-2fbd4378aee3"
      },
      "execution_count": 17,
      "outputs": [
        {
          "output_type": "stream",
          "name": "stdout",
          "text": [
            "January      5000\n",
            "February     5200\n",
            "March        4800\n",
            "April        5400\n",
            "May          5600\n",
            "June         5800\n",
            "July         6100\n",
            "August       5900\n",
            "September    6200\n",
            "October      6500\n",
            "November     7000\n",
            "December     6900\n",
            "Name: Monthly Advertising Revenue(USD), dtype: int64\n"
          ]
        }
      ]
    },
    {
      "cell_type": "code",
      "source": [],
      "metadata": {
        "id": "i7ZPWlC3AhnF"
      },
      "execution_count": null,
      "outputs": []
    },
    {
      "cell_type": "code",
      "source": [],
      "metadata": {
        "id": "1MorX0loAhg1"
      },
      "execution_count": 17,
      "outputs": []
    },
    {
      "cell_type": "code",
      "source": [
        "\n"
      ],
      "metadata": {
        "id": "kf6p7mkhAhTG"
      },
      "execution_count": 17,
      "outputs": []
    }
  ]
}